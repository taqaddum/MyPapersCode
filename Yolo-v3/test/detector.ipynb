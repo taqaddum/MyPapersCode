{
 "cells": [
  {
   "cell_type": "code",
   "execution_count": null,
   "metadata": {},
   "outputs": [],
   "source": [
    "import sys\n",
    "sys.path.append(\"..\")\n",
    "from models import Detector\n",
    "from torchsummary import summary"
   ]
  },
  {
   "cell_type": "code",
   "execution_count": 2,
   "metadata": {},
   "outputs": [
    {
     "data": {
      "text/plain": [
       "Detector(\n",
       "  (small): Sequential(\n",
       "    (0): ConvBL(\n",
       "      (conv): Conv2d(128, 256, kernel_size=(3, 3), stride=(1, 1), padding=(1, 1), bias=False, padding_mode=replicate)\n",
       "      (bn): BatchNorm2d(256, eps=1e-05, momentum=0.1, affine=True, track_running_stats=True)\n",
       "      (relu): LeakyReLU(negative_slope=0.1)\n",
       "    )\n",
       "    (1): Conv2d(256, 45, kernel_size=(1, 1), stride=(1, 1), bias=False)\n",
       "  )\n",
       "  (middle): Sequential(\n",
       "    (0): ConvBL(\n",
       "      (conv): Conv2d(256, 512, kernel_size=(3, 3), stride=(1, 1), padding=(1, 1), bias=False, padding_mode=replicate)\n",
       "      (bn): BatchNorm2d(512, eps=1e-05, momentum=0.1, affine=True, track_running_stats=True)\n",
       "      (relu): LeakyReLU(negative_slope=0.1)\n",
       "    )\n",
       "    (1): Conv2d(512, 45, kernel_size=(1, 1), stride=(1, 1), bias=False)\n",
       "  )\n",
       "  (large): Sequential(\n",
       "    (0): ConvBL(\n",
       "      (conv): Conv2d(512, 1024, kernel_size=(3, 3), stride=(1, 1), padding=(1, 1), bias=False, padding_mode=replicate)\n",
       "      (bn): BatchNorm2d(1024, eps=1e-05, momentum=0.1, affine=True, track_running_stats=True)\n",
       "      (relu): LeakyReLU(negative_slope=0.1)\n",
       "    )\n",
       "    (1): Conv2d(1024, 45, kernel_size=(1, 1), stride=(1, 1), bias=False)\n",
       "  )\n",
       ")"
      ]
     },
     "execution_count": 2,
     "metadata": {},
     "output_type": "execute_result"
    }
   ],
   "source": [
    "net = Detector(10, 3)\n",
    "net"
   ]
  },
  {
   "cell_type": "code",
   "execution_count": 3,
   "metadata": {},
   "outputs": [
    {
     "name": "stdout",
     "output_type": "stream",
     "text": [
      "----------------------------------------------------------------\n",
      "        Layer (type)               Output Shape         Param #\n",
      "================================================================\n",
      "            Conv2d-1          [-1, 256, 64, 64]         294,912\n",
      "       BatchNorm2d-2          [-1, 256, 64, 64]             512\n",
      "         LeakyReLU-3          [-1, 256, 64, 64]               0\n",
      "            ConvBL-4          [-1, 256, 64, 64]               0\n",
      "            Conv2d-5           [-1, 45, 64, 64]          11,520\n",
      "            Conv2d-6          [-1, 512, 32, 32]       1,179,648\n",
      "       BatchNorm2d-7          [-1, 512, 32, 32]           1,024\n",
      "         LeakyReLU-8          [-1, 512, 32, 32]               0\n",
      "            ConvBL-9          [-1, 512, 32, 32]               0\n",
      "           Conv2d-10           [-1, 45, 32, 32]          23,040\n",
      "           Conv2d-11         [-1, 1024, 16, 16]       4,718,592\n",
      "      BatchNorm2d-12         [-1, 1024, 16, 16]           2,048\n",
      "        LeakyReLU-13         [-1, 1024, 16, 16]               0\n",
      "           ConvBL-14         [-1, 1024, 16, 16]               0\n",
      "           Conv2d-15           [-1, 45, 16, 16]          46,080\n",
      "================================================================\n",
      "Total params: 6,277,376\n",
      "Trainable params: 6,277,376\n",
      "Non-trainable params: 0\n",
      "----------------------------------------------------------------\n",
      "Input size (MB): 0.00\n",
      "Forward/backward pass size (MB): 57.85\n",
      "Params size (MB): 23.95\n",
      "Estimated Total Size (MB): 81.79\n",
      "----------------------------------------------------------------\n"
     ]
    }
   ],
   "source": [
    "summary(net, [(128, 64, 64), (256, 32, 32), (512, 16, 16)], device=\"cpu\")"
   ]
  }
 ],
 "metadata": {
  "kernelspec": {
   "display_name": "Python 3.8.13 ('.venv': poetry)",
   "language": "python",
   "name": "python3"
  },
  "language_info": {
   "codemirror_mode": {
    "name": "ipython",
    "version": 3
   },
   "file_extension": ".py",
   "mimetype": "text/x-python",
   "name": "python",
   "nbconvert_exporter": "python",
   "pygments_lexer": "ipython3",
   "version": "3.8.13"
  },
  "orig_nbformat": 4,
  "vscode": {
   "interpreter": {
    "hash": "4657d484a969c822293dc05ae9133a32c661e468ff08352edc39ea5b0191adc2"
   }
  }
 },
 "nbformat": 4,
 "nbformat_minor": 2
}
