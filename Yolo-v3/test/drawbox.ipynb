{
 "cells": [
  {
   "cell_type": "code",
   "execution_count": 2,
   "metadata": {},
   "outputs": [],
   "source": [
    "import sys\n",
    "import matplotlib\n",
    "sys.path.append('../')\n",
    "from utils.datasets import YoloDataset\n",
    "from matplotlib import pyplot as plt\n",
    "matplotlib.use('Qt5Agg')"
   ]
  },
  {
   "cell_type": "code",
   "execution_count": 3,
   "metadata": {},
   "outputs": [],
   "source": [
    "plt.rcParams['font.sans-serif'] = 'SimHei'\n",
    "plt.rcParams['axes.unicode_minus'] = False"
   ]
  },
  {
   "cell_type": "code",
   "execution_count": 4,
   "metadata": {},
   "outputs": [],
   "source": [
    "trainset = YoloDataset('../data/train_val.npy', (512, 512))\n",
    "img, boxs, label = trainset[0]\n",
    "boxs[:, [0, 2]] *= img.shape[1]\n",
    "boxs[:, [1, 3]] *= img.shape[0]"
   ]
  },
  {
   "cell_type": "code",
   "execution_count": 5,
   "metadata": {},
   "outputs": [],
   "source": [
    "plt.close('绘制矩形框')\n",
    "plt.figure(num='绘制矩形框', dpi=120)\n",
    "plt.imshow(img)\n",
    "for box in boxs:\n",
    "    rect = plt.Rectangle((box[0]-box[2]/2, box[1]-box[3]/2), box[2], box[3], fill=False, color='blue', lw=1)\n",
    "    plt.gca().add_patch(rect)\n",
    "plt.title(f\"宽高：{img.shape[:2]}\", size=12, family='KaiTi')\n",
    "plt.gca().set_axis_off()\n",
    "plt.show()"
   ]
  }
 ],
 "metadata": {
  "interpreter": {
   "hash": "9cf8428aa180ee23632ed7df20f7a595edda7c60e668686876baf89d702ea1cf"
  },
  "kernelspec": {
   "display_name": "Python 3.8.13 ('pytorch')",
   "language": "python",
   "name": "python3"
  },
  "language_info": {
   "codemirror_mode": {
    "name": "ipython",
    "version": 3
   },
   "file_extension": ".py",
   "mimetype": "text/x-python",
   "name": "python",
   "nbconvert_exporter": "python",
   "pygments_lexer": "ipython3",
   "version": "3.8.13"
  },
  "orig_nbformat": 4
 },
 "nbformat": 4,
 "nbformat_minor": 2
}
