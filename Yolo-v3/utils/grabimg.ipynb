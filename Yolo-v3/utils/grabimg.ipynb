{
 "cells": [
  {
   "cell_type": "markdown",
   "metadata": {
    "pycharm": {
     "name": "#%% md\n"
    }
   },
   "source": [
    "# 爬取滑坡图片\n",
    "---"
   ]
  },
  {
   "cell_type": "markdown",
   "metadata": {
    "pycharm": {
     "name": "#%% md\n"
    }
   },
   "source": [
    "## 1. 定义函数"
   ]
  },
  {
   "cell_type": "code",
   "execution_count": null,
   "metadata": {
    "pycharm": {
     "name": "#%%\n"
    }
   },
   "outputs": [],
   "source": [
    "import time\n",
    "import asyncio\n",
    "import aiofiles\n",
    "import nest_asyncio\n",
    "\n",
    "nest_asyncio.apply()\n",
    "import aiohttp\n",
    "from tqdm import tqdm\n",
    "from lxml import etree\n",
    "from faker import Faker\n",
    "from selenium.webdriver import Firefox\n",
    "from selenium.webdriver.common.by import By\n",
    "from selenium.webdriver.common.keys import Keys\n",
    "from selenium.webdriver.firefox.options import Options"
   ]
  },
  {
   "cell_type": "markdown",
   "metadata": {
    "pycharm": {
     "name": "#%% md\n"
    }
   },
   "source": [
    "### 1.1 抓取页面"
   ]
  },
  {
   "cell_type": "code",
   "execution_count": null,
   "metadata": {
    "collapsed": false,
    "pycharm": {
     "name": "#%%\n"
    }
   },
   "outputs": [],
   "source": [
    "def grabHtml(url):\n",
    "    # 使用火狐打开网址，搜索关键字\n",
    "    web = Firefox(options=option)\n",
    "    web.get(url)\n",
    "    search = web.find_element(By.XPATH, '//*[@id=\"kw\"]')\n",
    "    search.send_keys(\"滑坡无人机图像\", Keys.ENTER)\n",
    "    time.sleep(2)\n",
    "\n",
    "    preheight = 0\n",
    "\n",
    "    while True:\n",
    "        height = web.execute_script(\"return action=document.body.scrollHeight\")\n",
    "        if height > preheight:\n",
    "            web.execute_script(\"window.scrollTo(0, document.body.scrollHeight)\")\n",
    "            time.sleep(2)\n",
    "            preheight = height\n",
    "            epoch = 3\n",
    "        elif epoch:  # 当高度没有更新时，进入重试逻辑，重试3次，每次等待5秒\n",
    "            time.sleep(5)\n",
    "            epoch -= 1\n",
    "        else:  # 超过重试次数，程序结束跳出循环，并认为页面已经加载完毕！\n",
    "            print(\"滚动条已经处于页面最下方！\")\n",
    "            break\n",
    "\n",
    "    text = web.page_source.encode(\"utf-8\")\n",
    "    web.quit()\n",
    "    return text"
   ]
  },
  {
   "cell_type": "markdown",
   "metadata": {
    "pycharm": {
     "name": "#%% md\n"
    }
   },
   "source": [
    "### 1.2 获取链接"
   ]
  },
  {
   "cell_type": "code",
   "execution_count": null,
   "metadata": {
    "pycharm": {
     "name": "#%%\n"
    }
   },
   "outputs": [],
   "source": [
    "def getHref(text):\n",
    "    imgs = list()\n",
    "    tree = etree.HTML(text)\n",
    "    divs = tree.xpath('//*[@id=\"imgid\"]/div[@class=\"imgpage\"]')\n",
    "    for div in divs:\n",
    "        imgitem = div.xpath('./ul/li[@class=\"imgitem normal\"]/a/@href')\n",
    "        imgs.extend(imgitem)\n",
    "    return imgs"
   ]
  },
  {
   "cell_type": "markdown",
   "metadata": {
    "pycharm": {
     "name": "#%% md\n"
    }
   },
   "source": [
    "### 1.3 获取源地址"
   ]
  },
  {
   "cell_type": "code",
   "execution_count": null,
   "metadata": {
    "pycharm": {
     "name": "#%%\n"
    }
   },
   "outputs": [],
   "source": [
    "def getSrc(domain, hrefs):\n",
    "    srcs = list()\n",
    "    web = Firefox(options=option)\n",
    "    for href in tqdm(hrefs, desc=\"获取src进度\"):\n",
    "        web.get(domain + href)\n",
    "        src = web.find_elements(by=By.XPATH, value='//*[@id=\"currentImg\"]')\n",
    "        if src:\n",
    "            srcs.append(src[0].get_attribute(\"src\") + \"\\n\")\n",
    "    web.quit()\n",
    "    return srcs"
   ]
  },
  {
   "cell_type": "markdown",
   "metadata": {
    "pycharm": {
     "name": "#%% md\n"
    }
   },
   "source": [
    "### 1.4 保存源地址"
   ]
  },
  {
   "cell_type": "code",
   "execution_count": null,
   "metadata": {
    "collapsed": false,
    "pycharm": {
     "name": "#%%\n"
    }
   },
   "outputs": [],
   "source": [
    "def saveFile(content, file, mod):\n",
    "    with open(file, mod) as f:\n",
    "        f.writelines(content)"
   ]
  },
  {
   "cell_type": "markdown",
   "metadata": {
    "pycharm": {
     "name": "#%% md\n"
    }
   },
   "source": [
    "### 1.5 下载图片"
   ]
  },
  {
   "cell_type": "code",
   "execution_count": null,
   "metadata": {
    "pycharm": {
     "name": "#%%\n"
    }
   },
   "outputs": [],
   "source": [
    "async def downloadImg(name, src, session):\n",
    "    async with aiofiles.open(f\"../data/Image/Other/20220508_{name:02}.jpg\", \"wb\") as f:\n",
    "        async with session.get(src, headers={\"user-agent\": fake.chrome()}) as resp:\n",
    "            img = await resp.read()\n",
    "        await f.write(img)\n"
   ]
  },
  {
   "cell_type": "code",
   "execution_count": null,
   "metadata": {
    "pycharm": {
     "name": "#%%\n"
    }
   },
   "outputs": [],
   "source": [
    "async def main():\n",
    "    connector = aiohttp.TCPConnector(limit=40)\n",
    "    async with aiohttp.ClientSession(connector=connector) as session:\n",
    "        tasks = {\n",
    "            asyncio.create_task(downloadImg(name, src.strip(), session))\n",
    "            for name, src in enumerate(sources)\n",
    "        }\n",
    "        await asyncio.wait(tasks)\n"
   ]
  },
  {
   "cell_type": "markdown",
   "metadata": {
    "pycharm": {
     "name": "#%% md\n"
    }
   },
   "source": [
    "### 1.6 统计时间"
   ]
  },
  {
   "cell_type": "code",
   "execution_count": null,
   "metadata": {
    "pycharm": {
     "name": "#%%\n"
    }
   },
   "outputs": [],
   "source": [
    "class Timer:\n",
    "    def __init__(self, func, desc=\"\", *args):\n",
    "        self.func = func\n",
    "        self.args = args\n",
    "        self.desc = desc\n",
    "\n",
    "    def start(self):\n",
    "        begin = time.time()\n",
    "        count = self.func.__code__.co_argcount\n",
    "        assert count == len(self.args), \"参数不匹配\"\n",
    "        try:\n",
    "            data = self.func(*self.args)\n",
    "        except ValueError as v:\n",
    "            print(\"捕获异常\", v)\n",
    "        else:\n",
    "            return data\n",
    "        finally:\n",
    "            print(f\"{self.desc}耗时{(time.time() - begin):.2f}秒\")\n"
   ]
  },
  {
   "cell_type": "markdown",
   "metadata": {
    "pycharm": {
     "name": "#%% md\n"
    }
   },
   "source": [
    "## 2. 运行脚本"
   ]
  },
  {
   "cell_type": "markdown",
   "metadata": {
    "pycharm": {
     "name": "#%% md\n"
    }
   },
   "source": [
    "### 2.1 抓取"
   ]
  },
  {
   "cell_type": "code",
   "execution_count": null,
   "metadata": {
    "pycharm": {
     "name": "#%%\n"
    }
   },
   "outputs": [],
   "source": [
    "baidu = \"https://image.baidu.com\"\n",
    "fake = Faker()\n",
    "option = Options()\n",
    "option.add_argument(\"--headless\")  # 无头浏览器\n",
    "htmltimer = Timer(grabHtml, \"获取页面\", baidu)\n",
    "html = htmltimer.start()"
   ]
  },
  {
   "cell_type": "markdown",
   "metadata": {
    "pycharm": {
     "name": "#%% md\n"
    }
   },
   "source": [
    "### 2.2 解析"
   ]
  },
  {
   "cell_type": "code",
   "execution_count": null,
   "metadata": {
    "collapsed": false,
    "pycharm": {
     "name": "#%%\n"
    }
   },
   "outputs": [],
   "source": [
    "hrefs = getHref(html)\n",
    "sources = getSrc(baidu, hrefs)\n",
    "saveFile(sources, \"../src.txt\", \"a\")"
   ]
  },
  {
   "cell_type": "markdown",
   "metadata": {
    "pycharm": {
     "name": "#%% md\n"
    }
   },
   "source": [
    "### 2.3 下载"
   ]
  },
  {
   "cell_type": "code",
   "execution_count": null,
   "metadata": {
    "collapsed": false,
    "pycharm": {
     "name": "#%%\n"
    }
   },
   "outputs": [],
   "source": [
    "if __name__ == \"__main__\":\n",
    "    downlaodtimer = Timer(asyncio.run, \"下载图片\", main())\n",
    "    downlaodtimer.start()"
   ]
  }
 ],
 "metadata": {
  "kernelspec": {
   "display_name": "Python 3.9.13 ('base')",
   "language": "python",
   "name": "python3"
  },
  "language_info": {
   "codemirror_mode": {
    "name": "ipython",
    "version": 3
   },
   "file_extension": ".py",
   "mimetype": "text/x-python",
   "name": "python",
   "nbconvert_exporter": "python",
   "pygments_lexer": "ipython3",
   "version": "3.9.13"
  },
  "orig_nbformat": 4,
  "vscode": {
   "interpreter": {
    "hash": "af8259ad5c1c9c7a69bd6ea085234cf8fd3a6a37a71ca551828b314c4d89b0ad"
   }
  }
 },
 "nbformat": 4,
 "nbformat_minor": 2
}
